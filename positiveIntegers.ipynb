{
 "cells": [
  {
   "cell_type": "code",
   "execution_count": 5,
   "id": "6417cd9a",
   "metadata": {},
   "outputs": [
    {
     "name": "stdout",
     "output_type": "stream",
     "text": [
      "How many integers element do you want to insert?  10\n",
      "ENTER INTEGERS\n",
      "5\n",
      "-8\n",
      "-7\n",
      "-5555\n",
      "888\n",
      "-854\n",
      "-98\n",
      "58\n",
      "24\n",
      "14\n",
      "Input::\n",
      "[5, -8, -7, -5555, 888, -854, -98, 58, 24, 14]\n",
      "Output::\n",
      "[5, 888, 58, 24, 14]\n"
     ]
    }
   ],
   "source": [
    "n = int(input(\"How many integers element do you want to insert?  \")) #this will take input of number of terms\n",
    "L1=[] #store the input list\n",
    "a=0\n",
    "L2=[] #store and output the updated positive integers\n",
    "print(\"ENTER INTEGERS\")\n",
    "for i in range(0,n): #this will help to take input till the nth term\n",
    "    x=int(input())\n",
    "    L1.append(x)  #append the entered intgers in list\n",
    "print(\"Input::\")\n",
    "print(L1) #print the input list\n",
    "for i in L1: \n",
    "    if i<0: #this will check if integer is negative or not\n",
    "        continue #if it returns true it will skip the particular iteration\n",
    "    else:\n",
    "        a=i\n",
    "    L2.append(a) # it will append the positive integers\n",
    "print (\"Output::\")\n",
    "print(L2)"
   ]
  },
  {
   "cell_type": "code",
   "execution_count": null,
   "id": "c6c2bd41",
   "metadata": {},
   "outputs": [],
   "source": []
  }
 ],
 "metadata": {
  "kernelspec": {
   "display_name": "Python 3",
   "language": "python",
   "name": "python3"
  },
  "language_info": {
   "codemirror_mode": {
    "name": "ipython",
    "version": 3
   },
   "file_extension": ".py",
   "mimetype": "text/x-python",
   "name": "python",
   "nbconvert_exporter": "python",
   "pygments_lexer": "ipython3",
   "version": "3.8.8"
  }
 },
 "nbformat": 4,
 "nbformat_minor": 5
}
