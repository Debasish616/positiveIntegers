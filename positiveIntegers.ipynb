{
 "cells": [
  {
   "cell_type": "code",
   "execution_count": 3,
   "id": "a5a8e4af",
   "metadata": {},
   "outputs": [
    {
     "name": "stdout",
     "output_type": "stream",
     "text": [
      "How many integers element do you want to insert?  10\n",
      "ENTER INTEGERS\n",
      "2\n",
      "-5\n",
      "8\n",
      "-77\n",
      "-888\n",
      "9\n",
      "58\n",
      "33\n",
      "-777\n",
      "-1000\n",
      "Input::\n",
      "[2, -5, 8, -77, -888, 9, 58, 33, -777, -1000]\n",
      "Output::\n",
      "[2, 8, 9, 58, 33]\n"
     ]
    }
   ],
   "source": [
    "n = int(input(\"How many integers element do you want to insert?  \"))\n",
    "L1=[]\n",
    "a=0\n",
    "L2=[]\n",
    "print(\"ENTER INTEGERS\")\n",
    "for i in range(0,n):\n",
    "    x=int(input())\n",
    "    L1.append(x)  \n",
    "print(\"Input::\")\n",
    "print(L1)\n",
    "for i in L1:\n",
    "    if i<0:\n",
    "        continue\n",
    "    else:\n",
    "        a=i\n",
    "    L2.append(a)\n",
    "print (\"Output::\")\n",
    "print(L2)"
   ]
  },
  {
   "cell_type": "code",
   "execution_count": null,
   "id": "a37ca1d0",
   "metadata": {},
   "outputs": [],
   "source": []
  }
 ],
 "metadata": {
  "kernelspec": {
   "display_name": "Python 3",
   "language": "python",
   "name": "python3"
  },
  "language_info": {
   "codemirror_mode": {
    "name": "ipython",
    "version": 3
   },
   "file_extension": ".py",
   "mimetype": "text/x-python",
   "name": "python",
   "nbconvert_exporter": "python",
   "pygments_lexer": "ipython3",
   "version": "3.8.8"
  }
 },
 "nbformat": 4,
 "nbformat_minor": 5
}
